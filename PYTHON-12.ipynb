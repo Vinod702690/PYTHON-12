{
 "cells": [
  {
   "cell_type": "code",
   "execution_count": null,
   "id": "e079b9af-8578-4f17-ae22-d22ff40b5607",
   "metadata": {},
   "outputs": [],
   "source": [
    "Sets in Python"
   ]
  },
  {
   "cell_type": "code",
   "execution_count": 1,
   "id": "19f54465-6d2f-4016-8d84-108f4c7f03e9",
   "metadata": {},
   "outputs": [
    {
     "data": {
      "text/plain": [
       "set"
      ]
     },
     "execution_count": 1,
     "metadata": {},
     "output_type": "execute_result"
    }
   ],
   "source": [
    ">>>\n",
    ">>> s1 = {3, 31, 12, 1}    # creating a set s1\n",
    ">>>\n",
    ">>> type(s1) "
   ]
  },
  {
   "cell_type": "code",
   "execution_count": 2,
   "id": "5324241b-86ee-4869-88f7-2e189dbdec20",
   "metadata": {},
   "outputs": [
    {
     "data": {
      "text/plain": [
       "{1, 3, 12, 31}"
      ]
     },
     "execution_count": 2,
     "metadata": {},
     "output_type": "execute_result"
    }
   ],
   "source": [
    ">>> s1"
   ]
  },
  {
   "cell_type": "code",
   "execution_count": 4,
   "id": "3a79c1b7-f904-46ad-88a5-94fb2e4d131a",
   "metadata": {},
   "outputs": [
    {
     "data": {
      "text/plain": [
       "{1, 3.14, 'alpha', 'one'}"
      ]
     },
     "execution_count": 4,
     "metadata": {},
     "output_type": "execute_result"
    }
   ],
   "source": [
    "s2 "
   ]
  },
  {
   "cell_type": "code",
   "execution_count": 5,
   "id": "8ee95fa7-b508-4686-9d57-71e8376e44fc",
   "metadata": {},
   "outputs": [
    {
     "data": {
      "text/plain": [
       "{23, 77, 91, 271}"
      ]
     },
     "execution_count": 5,
     "metadata": {},
     "output_type": "execute_result"
    }
   ],
   "source": [
    "\n",
    ">>>\n",
    ">>> s3 = set({77, 23, 91, 271})\n",
    ">>> s3"
   ]
  },
  {
   "cell_type": "code",
   "execution_count": 6,
   "id": "e594b64c-d9d0-4ce2-89d3-85fe2344cc5c",
   "metadata": {},
   "outputs": [
    {
     "data": {
      "text/plain": [
       "{'1', '2', '3', 'a', 'b', 'c'}"
      ]
     },
     "execution_count": 6,
     "metadata": {},
     "output_type": "execute_result"
    }
   ],
   "source": [
    ">>> s4 = set(\"123abc\")\n",
    ">>> s4"
   ]
  },
  {
   "cell_type": "code",
   "execution_count": 7,
   "id": "f234b45e-8735-49c3-b568-2dba1e899e85",
   "metadata": {},
   "outputs": [
    {
     "data": {
      "text/plain": [
       "{13, 33, 'nine', 'one', 'two'}"
      ]
     },
     "execution_count": 7,
     "metadata": {},
     "output_type": "execute_result"
    }
   ],
   "source": [
    "s5 = set(['one', 'two', 'nine', 33, 13])   \n",
    ">>> s5"
   ]
  },
  {
   "cell_type": "code",
   "execution_count": 8,
   "id": "19c9f6de-8253-45b5-b866-d2bb40d14147",
   "metadata": {},
   "outputs": [
    {
     "data": {
      "text/plain": [
       "{'alpha', 'beta', 'gamma'}"
      ]
     },
     "execution_count": 8,
     "metadata": {},
     "output_type": "execute_result"
    }
   ],
   "source": [
    ">>> s6 = set((\"alpha\", \"beta\", \"gamma\"))\n",
    ">>> s6"
   ]
  },
  {
   "cell_type": "code",
   "execution_count": null,
   "id": "a7906ce2-201d-4565-b0e6-c64aa7338f1c",
   "metadata": {},
   "outputs": [],
   "source": [
    "Getting Length of Sets"
   ]
  },
  {
   "cell_type": "code",
   "execution_count": 9,
   "id": "527e43fe-d310-48ba-a31b-6820013bddb7",
   "metadata": {},
   "outputs": [
    {
     "data": {
      "text/plain": [
       "3"
      ]
     },
     "execution_count": 9,
     "metadata": {},
     "output_type": "execute_result"
    }
   ],
   "source": [
    ">>>\n",
    ">>> colors = {\"blue\", \"orange\", \"green\"}\n",
    ">>> len(colors)\n",
    "3\n",
    ">>>"
   ]
  },
  {
   "cell_type": "code",
   "execution_count": null,
   "id": "7ef23553-6b4f-4d7a-a43c-ad2fff99c13d",
   "metadata": {},
   "outputs": [],
   "source": [
    "The max(), min(), sum() built-in functions #"
   ]
  },
  {
   "cell_type": "code",
   "execution_count": 10,
   "id": "5535d263-0ab2-43bd-94dc-1b2890c08688",
   "metadata": {},
   "outputs": [
    {
     "data": {
      "text/plain": [
       "187"
      ]
     },
     "execution_count": 10,
     "metadata": {},
     "output_type": "execute_result"
    }
   ],
   "source": [
    ">>>\n",
    ">>> s1 = {33,11,88,55}\n",
    ">>> s1\n",
    "{88, 33, 11, 55}\n",
    ">>>\n",
    ">>> max(s1)  # get the largest element from the set\n",
    "88\n",
    ">>> min(s1)  # get the smallest element from the set\n",
    "11\n",
    ">>> sum(s1)  # get the sum of all the elements in a set\n",
    "187\n",
    ">>>"
   ]
  },
  {
   "cell_type": "code",
   "execution_count": null,
   "id": "f9324d83-03c4-4d32-85eb-65a30b3bc7c8",
   "metadata": {},
   "outputs": [],
   "source": [
    "Adding and removing elements"
   ]
  },
  {
   "cell_type": "code",
   "execution_count": 11,
   "id": "1864d5ba-a321-4e2c-8010-eeef107ebe7e",
   "metadata": {},
   "outputs": [
    {
     "data": {
      "text/plain": [
       "{1, 4, 6, 9}"
      ]
     },
     "execution_count": 11,
     "metadata": {},
     "output_type": "execute_result"
    }
   ],
   "source": [
    "s1 = {4, 1, 9, 6}\n",
    ">>> s1 "
   ]
  },
  {
   "cell_type": "code",
   "execution_count": 12,
   "id": "270b87b7-df2b-429a-b4b4-5da2d0aa998c",
   "metadata": {},
   "outputs": [
    {
     "data": {
      "text/plain": [
       "2726283121984"
      ]
     },
     "execution_count": 12,
     "metadata": {},
     "output_type": "execute_result"
    }
   ],
   "source": [
    "id(s1)"
   ]
  },
  {
   "cell_type": "code",
   "execution_count": 13,
   "id": "a2a6cf74-c5eb-462b-a319-bfd0409e4157",
   "metadata": {},
   "outputs": [
    {
     "data": {
      "text/plain": [
       "{0, 1, 4, 6, 9, 10}"
      ]
     },
     "execution_count": 13,
     "metadata": {},
     "output_type": "execute_result"
    }
   ],
   "source": [
    ">>> s1.add(0)   \n",
    ">>> s1.add(10)\n",
    ">>>\n",
    ">>> s1        "
   ]
  },
  {
   "cell_type": "code",
   "execution_count": 14,
   "id": "1c0d3c48-0e9f-4cdc-ab18-e94e4fef4b9a",
   "metadata": {},
   "outputs": [
    {
     "data": {
      "text/plain": [
       "2726283121984"
      ]
     },
     "execution_count": 14,
     "metadata": {},
     "output_type": "execute_result"
    }
   ],
   "source": [
    "id(s1)"
   ]
  },
  {
   "cell_type": "code",
   "execution_count": 15,
   "id": "8622e34c-af9d-49d9-be69-f74126539b00",
   "metadata": {},
   "outputs": [
    {
     "data": {
      "text/plain": [
       "{1, 4, 9, 10}"
      ]
     },
     "execution_count": 15,
     "metadata": {},
     "output_type": "execute_result"
    }
   ],
   "source": [
    "s1.remove(0)   \n",
    ">>> s1.remove(6)   \n",
    ">>>\n",
    ">>> s1   "
   ]
  },
  {
   "cell_type": "code",
   "execution_count": null,
   "id": "53d27830-511d-42d4-9a68-9cb6550f118a",
   "metadata": {},
   "outputs": [],
   "source": [
    "Looping through sets"
   ]
  },
  {
   "cell_type": "code",
   "execution_count": 16,
   "id": "7f98ebb5-461a-47ce-a431-07f487fca201",
   "metadata": {},
   "outputs": [
    {
     "ename": "SyntaxError",
     "evalue": "invalid syntax (1521185926.py, line 7)",
     "output_type": "error",
     "traceback": [
      "\u001b[1;36m  Cell \u001b[1;32mIn[16], line 7\u001b[1;36m\u001b[0m\n\u001b[1;33m    25 33 99 124 44 >>>\u001b[0m\n\u001b[1;37m       ^\u001b[0m\n\u001b[1;31mSyntaxError\u001b[0m\u001b[1;31m:\u001b[0m invalid syntax\n"
     ]
    }
   ],
   "source": [
    ">>>\n",
    ">>> a_set = {99, 33, 44, 124, 25}\n",
    ">>>\n",
    ">>> for i in a_set:\n",
    "...    print(i, end=\" \")\n",
    "...\n",
    "25 33 99 124 44 >>>\n",
    ">>>\n",
    ">>>"
   ]
  },
  {
   "cell_type": "code",
   "execution_count": null,
   "id": "d35b6f99-860b-4431-9634-e351fb0fa842",
   "metadata": {},
   "outputs": [],
   "source": []
  }
 ],
 "metadata": {
  "kernelspec": {
   "display_name": "Python 3 (ipykernel)",
   "language": "python",
   "name": "python3"
  },
  "language_info": {
   "codemirror_mode": {
    "name": "ipython",
    "version": 3
   },
   "file_extension": ".py",
   "mimetype": "text/x-python",
   "name": "python",
   "nbconvert_exporter": "python",
   "pygments_lexer": "ipython3",
   "version": "3.12.3"
  }
 },
 "nbformat": 4,
 "nbformat_minor": 5
}
